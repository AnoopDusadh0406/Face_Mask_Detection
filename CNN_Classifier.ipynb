{
 "cells": [
  {
   "cell_type": "markdown",
   "metadata": {
    "id": "jpiy9Gvl-6Cx"
   },
   "source": [
    "## CNN Classifier (Mask, No Mask, Incorrectly wearing Mask)"
   ]
  },
  {
   "cell_type": "markdown",
   "metadata": {
    "id": "8qbvfJ_S_MR7"
   },
   "source": [
    "### Import Packages"
   ]
  },
  {
   "cell_type": "code",
   "execution_count": 3,
   "metadata": {
    "id": "qCfhYWYDT2z6"
   },
   "outputs": [],
   "source": [
    "# Import Libraries \n",
    "import numpy as np\n",
    "import matplotlib.pyplot as plt\n",
    "\n",
    "import tensorflow\n",
    "import sklearn\n",
    "from sklearn.model_selection import train_test_split\n",
    "import cv2\n",
    "\n",
    "import seaborn as sns\n",
    "import pickle\n",
    "import os"
   ]
  },
  {
   "cell_type": "markdown",
   "metadata": {
    "id": "rg1oz2jV93sK"
   },
   "source": [
    "### Load in the dataset that was preprocessed from local directory"
   ]
  },
  {
   "cell_type": "code",
   "execution_count": 4,
   "metadata": {
    "id": "GdZWFDrtZJy7"
   },
   "outputs": [],
   "source": [
    "# Load in the files  \n",
    "\n",
    "filename = 'X.pickle'\n",
    "pickle_in = open(filename, 'rb')\n",
    "X = pickle.load(pickle_in)\n",
    "\n",
    "filename = 'y.pickle'\n",
    "pickle_in = open(filename, 'rb')\n",
    "y = pickle.load(pickle_in)\n",
    "\n",
    "CATEGORIES = ['Without Mask', 'Incorrectly Wearing Mask', 'Wearing Mask']"
   ]
  },
  {
   "cell_type": "code",
   "execution_count": 7,
   "metadata": {
    "colab": {
     "base_uri": "https://localhost:8080/"
    },
    "id": "dIsabxBQaxwn",
    "outputId": "16a7aee5-3631-4734-8932-5f73d2e0997c"
   },
   "outputs": [
    {
     "name": "stdout",
     "output_type": "stream",
     "text": [
      "Type of X: <class 'numpy.ndarray'>\n",
      "Type of y: <class 'numpy.ndarray'>\n"
     ]
    }
   ],
   "source": [
    "# double check to see the types of the loaded files\n",
    "print('Type of X:', type(X))\n",
    "print('Type of y:', type(y))"
   ]
  },
  {
   "cell_type": "code",
   "execution_count": 8,
   "metadata": {
    "colab": {
     "base_uri": "https://localhost:8080/"
    },
    "id": "e-_uuqKJjNXs",
    "outputId": "cc3de2a8-337c-4e41-cfea-5ee068ad0fa5"
   },
   "outputs": [
    {
     "name": "stdout",
     "output_type": "stream",
     "text": [
      "Shape of X: (15737, 64, 64)\n",
      "Shape of y: (15737,)\n"
     ]
    }
   ],
   "source": [
    "print('Shape of X:', X.shape)\n",
    "print('Shape of y:', y.shape)"
   ]
  },
  {
   "cell_type": "code",
   "execution_count": 9,
   "metadata": {
    "colab": {
     "base_uri": "https://localhost:8080/"
    },
    "id": "mOQ9lDgKa9ce",
    "outputId": "c9c02854-e1ae-473d-ea2f-934d9fa5eb89"
   },
   "outputs": [
    {
     "name": "stdout",
     "output_type": "stream",
     "text": [
      "X:\n",
      "[[158 184 188 ...  44  88 155]\n",
      " [144 166 190 ...  57  79 153]\n",
      " [141 151 175 ...  56  88 149]\n",
      " ...\n",
      " [ 97  97  90 ...  87  77  79]\n",
      " [ 98  99  93 ...  80  84  88]\n",
      " [ 99  96  90 ...  66  84  83]]\n",
      "y:\n",
      "0\n"
     ]
    }
   ],
   "source": [
    "# print one example of dataset\n",
    "print('X:')\n",
    "print(X[13])\n",
    "print('y:')\n",
    "print(y[13])"
   ]
  },
  {
   "cell_type": "code",
   "execution_count": 10,
   "metadata": {
    "colab": {
     "base_uri": "https://localhost:8080/",
     "height": 298
    },
    "id": "weVpXB2GFOgh",
    "outputId": "a52d952d-62c2-4351-d553-30178e222919",
    "scrolled": true
   },
   "outputs": [
    {
     "name": "stdout",
     "output_type": "stream",
     "text": [
      "\n"
     ]
    },
    {
     "data": {
      "image/png": "[encoded data removed]",
      "text/plain": [
       "<Figure size 432x288 with 1 Axes>"
      ]
     },
     "metadata": {
      "needs_background": "light"
     },
     "output_type": "display_data"
    }
   ],
   "source": [
    "# Display the one example\n",
    "plt.imshow(X[10], cmap='gray')\n",
    "plt.title(CATEGORIES[y[10]], color='white')\n",
    "print('')"
   ]
  },
  {
   "cell_type": "markdown",
   "metadata": {
    "id": "ktzFJvIRGQJz"
   },
   "source": [
    "#### EDA"
   ]
  },
  {
   "cell_type": "code",
   "execution_count": 11,
   "metadata": {
    "id": "bvnLTGU2GPgP"
   },
   "outputs": [],
   "source": [
    "resized_X = []\n",
    "for img in X:\n",
    "    resized_X.append(cv2.resize(img, (64, 64)))"
   ]
  },
  {
   "cell_type": "code",
   "execution_count": 12,
   "metadata": {
    "colab": {
     "base_uri": "https://localhost:8080/"
    },
    "id": "Eqzux7kAGWIX",
    "outputId": "61eec3b5-35e6-4ea2-af46-22c43fc232ee"
   },
   "outputs": [
    {
     "name": "stdout",
     "output_type": "stream",
     "text": [
      "(15737, 64, 64, 1)\n"
     ]
    }
   ],
   "source": [
    "X = np.asarray(resized_X)\n",
    "X = X.reshape(-1, 64, 64, 1)\n",
    "print(X.shape)"
   ]
  },
  {
   "cell_type": "code",
   "execution_count": 13,
   "metadata": {
    "id": "yG3key7RGbwT"
   },
   "outputs": [],
   "source": [
    "# normalize the pixel values\n",
    "X = X / 255.0"
   ]
  },
  {
   "cell_type": "code",
   "execution_count": 14,
   "metadata": {
    "colab": {
     "base_uri": "https://localhost:8080/"
    },
    "id": "SScCCjmIGmQj",
    "outputId": "db8b3dd3-7761-4a4f-9150-962f7b8dc734"
   },
   "outputs": [
    {
     "name": "stdout",
     "output_type": "stream",
     "text": [
      "IMG_DIM: 64\n"
     ]
    }
   ],
   "source": [
    "IMG_DIM = X.shape[1]\n",
    "print('IMG_DIM:',IMG_DIM)"
   ]
  },
  {
   "cell_type": "code",
   "execution_count": 15,
   "metadata": {
    "id": "s13FHAbgG1sj"
   },
   "outputs": [],
   "source": [
    "# Split dataset into Training and Testing\n",
    "X_train, X_test, y_train, y_test = train_test_split(X, y, test_size=0.2)"
   ]
  },
  {
   "cell_type": "code",
   "execution_count": 16,
   "metadata": {
    "colab": {
     "base_uri": "https://localhost:8080/"
    },
    "id": "ipm0aO5lJbCL",
    "outputId": "ba4e8ccf-7098-463a-d1df-45a43937a91b"
   },
   "outputs": [
    {
     "name": "stdout",
     "output_type": "stream",
     "text": [
      "Training Size: 12589\n",
      "Testing  Size: 3148\n"
     ]
    }
   ],
   "source": [
    "print('Training Size:', len(X_train))\n",
    "print('Testing  Size:', len(X_test))"
   ]
  },
  {
   "cell_type": "markdown",
   "metadata": {
    "id": "6q0JzNt3GmqB"
   },
   "source": [
    "#### Building and fitting the CNN Model "
   ]
  },
  {
   "cell_type": "code",
   "execution_count": 17,
   "metadata": {
    "id": "jmlMbhIgG3i4"
   },
   "outputs": [],
   "source": [
    "cnn_model = tensorflow.keras.models.Sequential()"
   ]
  },
  {
   "cell_type": "code",
   "execution_count": 18,
   "metadata": {
    "id": "JCbnzA1dHAYa"
   },
   "outputs": [],
   "source": [
    "# Start of Convolution Layers & Maxpooling\n",
    "cnn_model.add(tensorflow.keras.layers.Conv2D(filters=64, kernel_size=3, activation='relu', input_shape=(IMG_DIM, IMG_DIM, 1)))\n",
    "cnn_model.add(tensorflow.keras.layers.Conv2D(filters=64, kernel_size=3, activation='relu'))\n",
    "cnn_model.add(tensorflow.keras.layers.MaxPool2D())\n",
    "\n",
    "cnn_model.add(tensorflow.keras.layers.Conv2D(filters=64, kernel_size=3, activation='relu'))\n",
    "cnn_model.add(tensorflow.keras.layers.Conv2D(filters=64, kernel_size=3, activation='relu'))\n",
    "cnn_model.add(tensorflow.keras.layers.MaxPool2D())\n",
    "\n",
    "cnn_model.add(tensorflow.keras.layers.Conv2D(filters=64, kernel_size=3, activation='relu', input_shape=(IMG_DIM, IMG_DIM, 1)))\n",
    "cnn_model.add(tensorflow.keras.layers.Conv2D(filters=64, kernel_size=3, activation='relu'))\n",
    "cnn_model.add(tensorflow.keras.layers.MaxPool2D())\n",
    "\n",
    "# Start of Neural Nets\n",
    "cnn_model.add(tensorflow.keras.layers.Flatten())\n",
    "\n",
    "cnn_model.add(tensorflow.keras.layers.Dense(512, activation='relu'))\n",
    "cnn_model.add(tensorflow.keras.layers.Dropout(0.3))\n",
    "cnn_model.add(tensorflow.keras.layers.Dense(512, activation='relu'))\n",
    "cnn_model.add(tensorflow.keras.layers.Dropout(0.3))\n",
    "cnn_model.add(tensorflow.keras.layers.Dense(256, activation='relu'))\n",
    "cnn_model.add(tensorflow.keras.layers.Dense(128, activation='relu'))\n",
    "cnn_model.add(tensorflow.keras.layers.Dense(3, activation='softmax'))"
   ]
  },
  {
   "cell_type": "code",
   "execution_count": 19,
   "metadata": {
    "colab": {
     "base_uri": "https://localhost:8080/"
    },
    "id": "vQkdPxKdHD0F",
    "outputId": "a1ae4be3-07be-479c-bf08-f6c0a03715d6"
   },
   "outputs": [
    {
     "name": "stdout",
     "output_type": "stream",
     "text": [
      "Model: \"sequential\"\n",
      "_________________________________________________________________\n",
      " Layer (type)                Output Shape              Param #   \n",
      "=================================================================\n",
      " conv2d (Conv2D)             (None, 62, 62, 64)        640       \n",
      "                                                                 \n",
      " conv2d_1 (Conv2D)           (None, 60, 60, 64)        36928     \n",
      "                                                                 \n",
      " max_pooling2d (MaxPooling2D  (None, 30, 30, 64)       0         \n",
      " )                                                               \n",
      "                                                                 \n",
      " conv2d_2 (Conv2D)           (None, 28, 28, 64)        36928     \n",
      "                                                                 \n",
      " conv2d_3 (Conv2D)           (None, 26, 26, 64)        36928     \n",
      "                                                                 \n",
      " max_pooling2d_1 (MaxPooling  (None, 13, 13, 64)       0         \n",
      " 2D)                                                             \n",
      "                                                                 \n",
      " conv2d_4 (Conv2D)           (None, 11, 11, 64)        36928     \n",
      "                                                                 \n",
      " conv2d_5 (Conv2D)           (None, 9, 9, 64)          36928     \n",
      "                                                                 \n",
      " max_pooling2d_2 (MaxPooling  (None, 4, 4, 64)         0         \n",
      " 2D)                                                             \n",
      "                                                                 \n",
      " flatten (Flatten)           (None, 1024)              0         \n",
      "                                                                 \n",
      " dense (Dense)               (None, 512)               524800    \n",
      "                                                                 \n",
      " dropout (Dropout)           (None, 512)               0         \n",
      "                                                                 \n",
      " dense_1 (Dense)             (None, 512)               262656    \n",
      "                                                                 \n",
      " dropout_1 (Dropout)         (None, 512)               0         \n",
      "                                                                 \n",
      " dense_2 (Dense)             (None, 256)               131328    \n",
      "                                                                 \n",
      " dense_3 (Dense)             (None, 128)               32896     \n",
      "                                                                 \n",
      " dense_4 (Dense)             (None, 3)                 387       \n",
      "                                                                 \n",
      "=================================================================\n",
      "Total params: 1,137,347\n",
      "Trainable params: 1,137,347\n",
      "Non-trainable params: 0\n",
      "_________________________________________________________________\n"
     ]
    }
   ],
   "source": [
    "cnn_model.summary()"
   ]
  },
  {
   "cell_type": "code",
   "execution_count": 20,
   "metadata": {
    "id": "OHpoSlZVHKc8"
   },
   "outputs": [],
   "source": [
    "# Compile the Model\n",
    "cnn_model.compile(optimizer=tensorflow.keras.optimizers.Adam(), loss='sparse_categorical_crossentropy', metrics=['acc'])"
   ]
  },
  {
   "cell_type": "code",
   "execution_count": 21,
   "metadata": {
    "colab": {
     "base_uri": "https://localhost:8080/"
    },
    "id": "-vypBIABHMNl",
    "outputId": "beca7aad-cef9-4786-c2c1-8ada6d916a9b"
   },
   "outputs": [
    {
     "name": "stdout",
     "output_type": "stream",
     "text": [
      "Epoch 1/10\n",
      "355/355 [==============================] - 134s 366ms/step - loss: 0.3502 - acc: 0.8425 - val_loss: 0.1521 - val_acc: 0.9500\n",
      "Epoch 2/10\n",
      "355/355 [==============================] - 154s 433ms/step - loss: 0.0897 - acc: 0.9702 - val_loss: 0.0440 - val_acc: 0.9889\n",
      "Epoch 3/10\n",
      "355/355 [==============================] - 149s 419ms/step - loss: 0.0592 - acc: 0.9811 - val_loss: 0.0456 - val_acc: 0.9849\n",
      "Epoch 4/10\n",
      "355/355 [==============================] - 154s 433ms/step - loss: 0.0565 - acc: 0.9814 - val_loss: 0.0471 - val_acc: 0.9873\n",
      "Epoch 5/10\n",
      "355/355 [==============================] - 145s 409ms/step - loss: 0.0485 - acc: 0.9846 - val_loss: 0.0526 - val_acc: 0.9833\n",
      "Epoch 6/10\n",
      "355/355 [==============================] - 138s 388ms/step - loss: 0.0360 - acc: 0.9887 - val_loss: 0.0315 - val_acc: 0.9897\n",
      "Epoch 7/10\n",
      "355/355 [==============================] - 137s 387ms/step - loss: 0.0441 - acc: 0.9852 - val_loss: 0.0396 - val_acc: 0.9881\n",
      "Epoch 8/10\n",
      "355/355 [==============================] - 140s 396ms/step - loss: 0.0301 - acc: 0.9896 - val_loss: 0.0230 - val_acc: 0.9952\n",
      "Epoch 9/10\n",
      "355/355 [==============================] - 143s 403ms/step - loss: 0.0357 - acc: 0.9883 - val_loss: 0.0496 - val_acc: 0.9865\n",
      "Epoch 10/10\n",
      "355/355 [==============================] - 148s 416ms/step - loss: 0.0243 - acc: 0.9910 - val_loss: 0.0575 - val_acc: 0.9770\n"
     ]
    },
    {
     "data": {
      "text/plain": [
       "<keras.callbacks.History at 0x25b22029670>"
      ]
     },
     "execution_count": 21,
     "metadata": {},
     "output_type": "execute_result"
    }
   ],
   "source": [
    "# Train Model\n",
    "epochs = 10\n",
    "cnn_model.fit(X_train, y_train, epochs=epochs, validation_split=0.1)"
   ]
  },
  {
   "cell_type": "markdown",
   "metadata": {
    "id": "Bu67aEqUHrjq"
   },
   "source": [
    "#### Evalute Performance"
   ]
  },
  {
   "cell_type": "code",
   "execution_count": 22,
   "metadata": {
    "colab": {
     "base_uri": "https://localhost:8080/"
    },
    "id": "JVTqv1ENHNvL",
    "outputId": "c1121eed-fc94-43c2-c9ff-b2abe9520e2c"
   },
   "outputs": [
    {
     "name": "stdout",
     "output_type": "stream",
     "text": [
      "99/99 [==============================] - 8s 79ms/step - loss: 0.0716 - acc: 0.9736\n"
     ]
    },
    {
     "data": {
      "text/plain": [
       "[0.07157361507415771, 0.9736340641975403]"
      ]
     },
     "execution_count": 22,
     "metadata": {},
     "output_type": "execute_result"
    }
   ],
   "source": [
    "# Evaluate performance\n",
    "cnn_model.evaluate(X_test, y_test)"
   ]
  },
  {
   "cell_type": "code",
   "execution_count": 23,
   "metadata": {
    "id": "_meFAampHuay"
   },
   "outputs": [],
   "source": [
    "y_pred = np.argmax(cnn_model.predict(X_test), axis=-1)"
   ]
  },
  {
   "cell_type": "code",
   "execution_count": 24,
   "metadata": {
    "colab": {
     "base_uri": "https://localhost:8080/",
     "height": 690
    },
    "id": "LyfAXslHHz9X",
    "outputId": "531490e9-831f-492c-8a26-23d5ad999e6e"
   },
   "outputs": [
    {
     "name": "stdout",
     "output_type": "stream",
     "text": [
      "              precision    recall  f1-score   support\n",
      "\n",
      "           0       0.96      0.98      0.97       983\n",
      "           1       0.98      1.00      0.99      1177\n",
      "           2       0.98      0.93      0.96       988\n",
      "\n",
      "    accuracy                           0.97      3148\n",
      "   macro avg       0.97      0.97      0.97      3148\n",
      "weighted avg       0.97      0.97      0.97      3148\n",
      "\n"
     ]
    },
    {
     "data": {
      "image/png": "[encoded data removed]",
      "text/plain": [
       "<Figure size 648x648 with 2 Axes>"
      ]
     },
     "metadata": {
      "needs_background": "light"
     },
     "output_type": "display_data"
    }
   ],
   "source": [
    "cm = sklearn.metrics.confusion_matrix(y_test, y_pred)\n",
    "\n",
    "plt.figure(figsize=(9, 9))\n",
    "sns.heatmap(cm, annot=True, fmt='.0f', square=True, linewidths=.5, cmap='Blues_r')\n",
    "plt.ylabel('Actual Label')\n",
    "plt.xlabel('Predicted Label')\n",
    "\n",
    "print(sklearn.metrics.classification_report(y_test, y_pred))"
   ]
  },
  {
   "cell_type": "markdown",
   "metadata": {
    "id": "47jJyhTtHkud"
   },
   "source": [
    "#### Save model for future use"
   ]
  },
  {
   "cell_type": "code",
   "execution_count": 25,
   "metadata": {
    "colab": {
     "base_uri": "https://localhost:8080/"
    },
    "id": "1_CCuP0mIHvZ",
    "outputId": "e2bcd397-70b9-4b1a-c4e6-8331380744af"
   },
   "outputs": [
    {
     "name": "stdout",
     "output_type": "stream",
     "text": [
      "INFO:tensorflow:Assets written to: ./cnn\\assets\n"
     ]
    }
   ],
   "source": [
    "path = './cnn'\n",
    "cnn_model.save(path)\n",
    "\n",
    "# To load\n",
    "# model = tensorflow.keras.models.load_model(path)"
   ]
  },
  {
   "cell_type": "code",
   "execution_count": 21,
   "metadata": {
    "id": "e0QgVB6SILAV"
   },
   "outputs": [],
   "source": []
  }
 ],
 "metadata": {
  "accelerator": "GPU",
  "colab": {
   "name": "CNN_Classifier.ipynb",
   "provenance": []
  },
  "kernelspec": {
   "display_name": "Python 3",
   "language": "python",
   "name": "python3"
  },
  "language_info": {
   "codemirror_mode": {
    "name": "ipython",
    "version": 3
   },
   "file_extension": ".py",
   "mimetype": "text/x-python",
   "name": "python",
   "nbconvert_exporter": "python",
   "pygments_lexer": "ipython3",
   "version": "3.8.8"
  }
 },
 "nbformat": 4,
 "nbformat_minor": 1
}
